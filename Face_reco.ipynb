{
  "nbformat": 4,
  "nbformat_minor": 0,
  "metadata": {
    "colab": {
      "provenance": []
    },
    "kernelspec": {
      "name": "python3",
      "display_name": "Python 3"
    },
    "language_info": {
      "name": "python"
    }
  },
  "cells": [
    {
      "cell_type": "code",
      "execution_count": null,
      "metadata": {
        "id": "cng-RpjBP7vl"
      },
      "outputs": [],
      "source": [
        "import numpy as np\n",
        "import cv2\n",
        "\n",
        "faceCascade = cv2.CascadeClassifier('haarcascade_frontalface_default.xml')\n",
        "\n",
        "cap = cv2.VideoCapture(0)\n",
        "cap.set(3, 640)  # set Width\n",
        "cap.set(4, 480)  # set Height\n",
        "\n",
        "while True:\n",
        "    ret, img = cap.read()\n",
        "\n",
        "    gray = cv2.cvtColor(img, cv2.COLOR_BGR2GRAY)\n",
        "    faces = faceCascade.detectMultiScale(\n",
        "        gray,\n",
        "\n",
        "        scaleFactor=1.2,\n",
        "        minNeighbors=5\n",
        "        ,\n",
        "        minSize=(20, 20)\n",
        "    )\n",
        "\n",
        "    for (x, y, w, h) in faces:\n",
        "        cv2.rectangle(img, (x, y), (x + w, y + h), (255, 0, 0), 2)\n",
        "        roi_gray = gray[y:y + h, x:x + w]\n",
        "        roi_color = img[y:y + h, x:x + w]\n",
        "\n",
        "    cv2.imshow('video', img)\n",
        "\n",
        "    k = cv2.waitKey(30) & 0xff\n",
        "    if k == 27:  # press 'ESC' to quit\n",
        "        break\n",
        "\n",
        "cap.release()\n",
        "cv2.destroyAllWindows()"
      ]
    }
  ]
}